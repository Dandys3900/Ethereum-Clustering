{
 "cells": [
  {
   "cell_type": "code",
   "execution_count": null,
   "metadata": {},
   "outputs": [],
   "source": [
    "import numpy as np\n",
    "import matplotlib.pyplot as plt\n",
    "\n",
    "scopes = np.array([[1], [2], [5]])  # Scope\n",
    "addrs_cnts = np.array([1797187, 1895126, 3448462])  # Leaf addresses count\n",
    "\n",
    "# Can't get to run scikit with newest python 3.12 (lib incompatibility)\n",
    "# Used webpage to get run linear regression prediction\n",
    "y_pred = [44918844.54]\n",
    "\n",
    "x_line = np.array([[1], [100]])\n",
    "y_line = [1651857.88461538, 44918844.53846154]\n",
    "\n",
    "# Plot\n",
    "plt.figure(figsize=(10, 5))\n",
    "plt.scatter(scopes, addrs_cnts, label=\"Hodnoty pro 1%, 2% a 5% rozsah\")\n",
    "plt.plot(x_line, y_line, label=\"Regresní přímka\")\n",
    "# Prediction line\n",
    "plt.scatter(100, y_pred, color=\"red\", s=100, label=f\"Predikce [%, počet] (100, {y_pred[0]:.0f})\")\n",
    "plt.title(\"Predikce pro plný rozsah shlukování pomocí lineární regrese\")\n",
    "plt.xlabel(\"Rozsah [%]\")\n",
    "plt.ylabel(\"Množství adres\")\n",
    "plt.legend()\n",
    "plt.grid(True)\n",
    "plt.show()\n"
   ]
  }
 ],
 "metadata": {
  "kernelspec": {
   "display_name": "plotenv",
   "language": "python",
   "name": "python3"
  },
  "language_info": {
   "codemirror_mode": {
    "name": "ipython",
    "version": 3
   },
   "file_extension": ".py",
   "mimetype": "text/x-python",
   "name": "python",
   "nbconvert_exporter": "python",
   "pygments_lexer": "ipython3",
   "version": "3.12.8"
  }
 },
 "nbformat": 4,
 "nbformat_minor": 2
}
