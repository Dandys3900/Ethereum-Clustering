{
 "cells": [
  {
   "cell_type": "code",
   "execution_count": null,
   "metadata": {},
   "outputs": [],
   "source": [
    "import json\n",
    "import numpy as np\n",
    "import matplotlib.pyplot as plt\n",
    "\n",
    "# Load input data\n",
    "with open(\"addresses_data.json\", \"r\") as f:\n",
    "    data = np.array(json.load(f))\n",
    "\n",
    "# Sort in ascending order\n",
    "cluster_size = np.sort(np.unique(data))\n",
    "\n",
    "# Get amount of clusters having >= addresses from loaded data\n",
    "clusters_cnt = np.array([(data >= value).sum() for value in cluster_size])\n",
    "\n",
    "# Plot\n",
    "plt.figure(figsize=(8, 5))\n",
    "plt.plot(cluster_size, clusters_cnt)\n",
    "plt.xscale(\"log\")\n",
    "plt.yscale(\"log\")\n",
    "plt.xlabel(\"Adresy\")\n",
    "plt.ylabel(\"Shluky\")\n",
    "plt.xlim(left=1)\n",
    "plt.ylim(bottom=1)\n",
    "plt.title(\"KKDF pro shluky a množství obsažených adres\")\n",
    "plt.grid(True)\n",
    "plt.show()\n"
   ]
  }
 ],
 "metadata": {
  "kernelspec": {
   "display_name": "plotenv",
   "language": "python",
   "name": "python3"
  },
  "language_info": {
   "codemirror_mode": {
    "name": "ipython",
    "version": 3
   },
   "file_extension": ".py",
   "mimetype": "text/x-python",
   "name": "python",
   "nbconvert_exporter": "python",
   "pygments_lexer": "ipython3",
   "version": "3.12.8"
  }
 },
 "nbformat": 4,
 "nbformat_minor": 2
}
